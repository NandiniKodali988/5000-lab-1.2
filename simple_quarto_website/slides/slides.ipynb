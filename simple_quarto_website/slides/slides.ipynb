---
title: "Habits"
author: "John Doe"
format: revealjs
---