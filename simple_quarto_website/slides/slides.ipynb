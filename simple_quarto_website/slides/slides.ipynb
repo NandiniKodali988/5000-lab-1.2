{
 "cells": [
  {
   "cell_type": "markdown",
   "metadata": {},
   "source": [
    "---\n",
    "title: \"Slides\"\n",
    "author: \"Nandini Kodali\"\n",
    "format: revealjs\n",
    "bibliography: ../reference.bib\n",
    "---"
   ]
  },
  {
   "cell_type": "markdown",
   "metadata": {},
   "source": [
    "## Course\n",
    "DSAN 5000: Data Science and Analytics\n",
    "\n",
    "## Assignment\n",
    "Lab - 1.2\n",
    "\n",
    "## Images\n",
    "![Pangong Lake, India](images/leh.jpg)\n",
    "\n",
    "![Jal Mahal, India](images/jaipur.jpg)\n",
    "\n",
    "## References\n",
    "I presented the paper titled \"High-Order Total Variation-Based Image Restoration\" in the \"Mathematical Modeling for Image Processing\" course I took in undergrad [@chan2000high].\n"
   ]
  },
  {
   "cell_type": "markdown",
   "metadata": {},
   "source": []
  },
  {
   "cell_type": "markdown",
   "metadata": {},
   "source": []
  }
 ],
 "metadata": {
  "kernelspec": {
   "display_name": "Python 3",
   "language": "python",
   "name": "python3"
  },
  "language_info": {
   "codemirror_mode": {
    "name": "ipython",
    "version": 3
   },
   "file_extension": ".py",
   "mimetype": "text/x-python",
   "name": "python",
   "nbconvert_exporter": "python",
   "pygments_lexer": "ipython3",
   "version": "3.9.6"
  }
 },
 "nbformat": 4,
 "nbformat_minor": 2
}
